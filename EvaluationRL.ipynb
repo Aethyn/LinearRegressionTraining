{
 "cells": [
  {
   "cell_type": "markdown",
   "metadata": {},
   "source": [
    "# Devoir d'évaluation - Régression linéaire"
   ]
  },
  {
   "cell_type": "markdown",
   "metadata": {},
   "source": [
    "Intitulé :\n"
   ]
  },
  {
   "cell_type": "code",
   "execution_count": 1,
   "metadata": {},
   "outputs": [],
   "source": [
    "import pandas as pd"
   ]
  },
  {
   "cell_type": "code",
   "execution_count": 2,
   "metadata": {},
   "outputs": [],
   "source": [
    "url = \"https://tinyurl.com/y4pflefj\"\n",
    "\n",
    "df = pd.read_csv(url)"
   ]
  },
  {
   "cell_type": "code",
   "execution_count": 3,
   "metadata": {},
   "outputs": [
    {
     "name": "stdout",
     "output_type": "stream",
     "text": [
      "<class 'pandas.core.frame.DataFrame'>\n",
      "RangeIndex: 8192 entries, 0 to 8191\n",
      "Data columns (total 27 columns):\n",
      "time        8192 non-null object\n",
      "lread       8192 non-null int64\n",
      "lwrite      8192 non-null int64\n",
      "scall       8192 non-null int64\n",
      "sread       8192 non-null int64\n",
      "swrite      8192 non-null int64\n",
      "fork        8192 non-null float64\n",
      "exec        8192 non-null float64\n",
      "rchar       8192 non-null int64\n",
      "wchar       8192 non-null int64\n",
      "pgout       8192 non-null float64\n",
      "ppgout      8192 non-null float64\n",
      "pgfree      8192 non-null float64\n",
      "pgscan      8192 non-null float64\n",
      "atch        8192 non-null float64\n",
      "pgin        8192 non-null float64\n",
      "ppgin       8192 non-null float64\n",
      "pflt        8192 non-null float64\n",
      "vflt        8192 non-null float64\n",
      "runqsz      8192 non-null float64\n",
      "runocc      8192 non-null int64\n",
      "freemem     8192 non-null int64\n",
      "freeswap    8192 non-null int64\n",
      "usr         8192 non-null int64\n",
      "sys         8192 non-null int64\n",
      "wio         7898 non-null float64\n",
      "idle        7898 non-null float64\n",
      "dtypes: float64(14), int64(12), object(1)\n",
      "memory usage: 1.7+ MB\n"
     ]
    }
   ],
   "source": [
    "df.info()"
   ]
  },
  {
   "cell_type": "code",
   "execution_count": 10,
   "metadata": {},
   "outputs": [
    {
     "data": {
      "text/html": [
       "<div>\n",
       "<style scoped>\n",
       "    .dataframe tbody tr th:only-of-type {\n",
       "        vertical-align: middle;\n",
       "    }\n",
       "\n",
       "    .dataframe tbody tr th {\n",
       "        vertical-align: top;\n",
       "    }\n",
       "\n",
       "    .dataframe thead th {\n",
       "        text-align: right;\n",
       "    }\n",
       "</style>\n",
       "<table border=\"1\" class=\"dataframe\">\n",
       "  <thead>\n",
       "    <tr style=\"text-align: right;\">\n",
       "      <th></th>\n",
       "      <th>time</th>\n",
       "      <th>lread</th>\n",
       "      <th>lwrite</th>\n",
       "      <th>scall</th>\n",
       "      <th>sread</th>\n",
       "      <th>swrite</th>\n",
       "      <th>fork</th>\n",
       "      <th>exec</th>\n",
       "      <th>rchar</th>\n",
       "      <th>wchar</th>\n",
       "      <th>...</th>\n",
       "      <th>pflt</th>\n",
       "      <th>vflt</th>\n",
       "      <th>runqsz</th>\n",
       "      <th>runocc</th>\n",
       "      <th>freemem</th>\n",
       "      <th>freeswap</th>\n",
       "      <th>usr</th>\n",
       "      <th>sys</th>\n",
       "      <th>wio</th>\n",
       "      <th>idle</th>\n",
       "    </tr>\n",
       "  </thead>\n",
       "  <tbody>\n",
       "    <tr>\n",
       "      <th>7246</th>\n",
       "      <td>00:44:46</td>\n",
       "      <td>0</td>\n",
       "      <td>0</td>\n",
       "      <td>507</td>\n",
       "      <td>20</td>\n",
       "      <td>24</td>\n",
       "      <td>0.2</td>\n",
       "      <td>0.2</td>\n",
       "      <td>789</td>\n",
       "      <td>6978</td>\n",
       "      <td>...</td>\n",
       "      <td>15.60</td>\n",
       "      <td>16.80</td>\n",
       "      <td>1.0</td>\n",
       "      <td>100</td>\n",
       "      <td>7014</td>\n",
       "      <td>1861808</td>\n",
       "      <td>98</td>\n",
       "      <td>2</td>\n",
       "      <td>0.0</td>\n",
       "      <td>0.0</td>\n",
       "    </tr>\n",
       "    <tr>\n",
       "      <th>4324</th>\n",
       "      <td>14:11:31</td>\n",
       "      <td>4</td>\n",
       "      <td>2</td>\n",
       "      <td>3107</td>\n",
       "      <td>270</td>\n",
       "      <td>198</td>\n",
       "      <td>1.6</td>\n",
       "      <td>1.8</td>\n",
       "      <td>49962</td>\n",
       "      <td>60719</td>\n",
       "      <td>...</td>\n",
       "      <td>91.40</td>\n",
       "      <td>220.60</td>\n",
       "      <td>5.0</td>\n",
       "      <td>100</td>\n",
       "      <td>156</td>\n",
       "      <td>1020181</td>\n",
       "      <td>88</td>\n",
       "      <td>12</td>\n",
       "      <td>0.0</td>\n",
       "      <td>0.0</td>\n",
       "    </tr>\n",
       "    <tr>\n",
       "      <th>4305</th>\n",
       "      <td>11:27:32</td>\n",
       "      <td>5</td>\n",
       "      <td>2</td>\n",
       "      <td>2929</td>\n",
       "      <td>387</td>\n",
       "      <td>204</td>\n",
       "      <td>2.6</td>\n",
       "      <td>2.6</td>\n",
       "      <td>288065</td>\n",
       "      <td>215294</td>\n",
       "      <td>...</td>\n",
       "      <td>142.00</td>\n",
       "      <td>249.20</td>\n",
       "      <td>2.0</td>\n",
       "      <td>40</td>\n",
       "      <td>315</td>\n",
       "      <td>1130874</td>\n",
       "      <td>81</td>\n",
       "      <td>18</td>\n",
       "      <td>0.0</td>\n",
       "      <td>1.0</td>\n",
       "    </tr>\n",
       "    <tr>\n",
       "      <th>142</th>\n",
       "      <td>01:17:36</td>\n",
       "      <td>15</td>\n",
       "      <td>21</td>\n",
       "      <td>186</td>\n",
       "      <td>11</td>\n",
       "      <td>23</td>\n",
       "      <td>0.2</td>\n",
       "      <td>0.2</td>\n",
       "      <td>2058</td>\n",
       "      <td>12778</td>\n",
       "      <td>...</td>\n",
       "      <td>15.40</td>\n",
       "      <td>17.20</td>\n",
       "      <td>1.0</td>\n",
       "      <td>100</td>\n",
       "      <td>7138</td>\n",
       "      <td>1873512</td>\n",
       "      <td>96</td>\n",
       "      <td>4</td>\n",
       "      <td>0.0</td>\n",
       "      <td>0.0</td>\n",
       "    </tr>\n",
       "    <tr>\n",
       "      <th>4546</th>\n",
       "      <td>16:25:20</td>\n",
       "      <td>2</td>\n",
       "      <td>0</td>\n",
       "      <td>1200</td>\n",
       "      <td>134</td>\n",
       "      <td>128</td>\n",
       "      <td>0.6</td>\n",
       "      <td>0.6</td>\n",
       "      <td>208393</td>\n",
       "      <td>90332</td>\n",
       "      <td>...</td>\n",
       "      <td>29.94</td>\n",
       "      <td>131.54</td>\n",
       "      <td>126.0</td>\n",
       "      <td>954400</td>\n",
       "      <td>90</td>\n",
       "      <td>10</td>\n",
       "      <td>0</td>\n",
       "      <td>0</td>\n",
       "      <td>NaN</td>\n",
       "      <td>NaN</td>\n",
       "    </tr>\n",
       "    <tr>\n",
       "      <th>5618</th>\n",
       "      <td>22:54:59</td>\n",
       "      <td>5</td>\n",
       "      <td>0</td>\n",
       "      <td>1776</td>\n",
       "      <td>106</td>\n",
       "      <td>29</td>\n",
       "      <td>4.4</td>\n",
       "      <td>17.8</td>\n",
       "      <td>200983</td>\n",
       "      <td>13030</td>\n",
       "      <td>...</td>\n",
       "      <td>221.80</td>\n",
       "      <td>333.20</td>\n",
       "      <td>1.8</td>\n",
       "      <td>100</td>\n",
       "      <td>5306</td>\n",
       "      <td>1832483</td>\n",
       "      <td>88</td>\n",
       "      <td>12</td>\n",
       "      <td>0.0</td>\n",
       "      <td>0.0</td>\n",
       "    </tr>\n",
       "    <tr>\n",
       "      <th>7280</th>\n",
       "      <td>16:41:55</td>\n",
       "      <td>3</td>\n",
       "      <td>0</td>\n",
       "      <td>943</td>\n",
       "      <td>119</td>\n",
       "      <td>116</td>\n",
       "      <td>0.8</td>\n",
       "      <td>0.6</td>\n",
       "      <td>34217</td>\n",
       "      <td>32924</td>\n",
       "      <td>...</td>\n",
       "      <td>58.40</td>\n",
       "      <td>130.00</td>\n",
       "      <td>531.0</td>\n",
       "      <td>943466</td>\n",
       "      <td>93</td>\n",
       "      <td>7</td>\n",
       "      <td>0</td>\n",
       "      <td>0</td>\n",
       "      <td>NaN</td>\n",
       "      <td>NaN</td>\n",
       "    </tr>\n",
       "    <tr>\n",
       "      <th>752</th>\n",
       "      <td>17:06:12</td>\n",
       "      <td>4</td>\n",
       "      <td>2</td>\n",
       "      <td>2821</td>\n",
       "      <td>171</td>\n",
       "      <td>126</td>\n",
       "      <td>0.4</td>\n",
       "      <td>0.6</td>\n",
       "      <td>25208</td>\n",
       "      <td>41575</td>\n",
       "      <td>...</td>\n",
       "      <td>28.14</td>\n",
       "      <td>69.06</td>\n",
       "      <td>3.4</td>\n",
       "      <td>100</td>\n",
       "      <td>2859</td>\n",
       "      <td>1529525</td>\n",
       "      <td>94</td>\n",
       "      <td>6</td>\n",
       "      <td>0.0</td>\n",
       "      <td>0.0</td>\n",
       "    </tr>\n",
       "    <tr>\n",
       "      <th>8126</th>\n",
       "      <td>01:05:41</td>\n",
       "      <td>0</td>\n",
       "      <td>0</td>\n",
       "      <td>161</td>\n",
       "      <td>10</td>\n",
       "      <td>27</td>\n",
       "      <td>0.2</td>\n",
       "      <td>0.2</td>\n",
       "      <td>425</td>\n",
       "      <td>23258</td>\n",
       "      <td>...</td>\n",
       "      <td>15.60</td>\n",
       "      <td>16.80</td>\n",
       "      <td>1.0</td>\n",
       "      <td>100</td>\n",
       "      <td>6236</td>\n",
       "      <td>1856808</td>\n",
       "      <td>99</td>\n",
       "      <td>1</td>\n",
       "      <td>0.0</td>\n",
       "      <td>0.0</td>\n",
       "    </tr>\n",
       "    <tr>\n",
       "      <th>2918</th>\n",
       "      <td>15:07:54</td>\n",
       "      <td>7</td>\n",
       "      <td>1</td>\n",
       "      <td>2544</td>\n",
       "      <td>135</td>\n",
       "      <td>126</td>\n",
       "      <td>1.2</td>\n",
       "      <td>2.4</td>\n",
       "      <td>69693</td>\n",
       "      <td>23159</td>\n",
       "      <td>...</td>\n",
       "      <td>87.00</td>\n",
       "      <td>143.00</td>\n",
       "      <td>4.0</td>\n",
       "      <td>100</td>\n",
       "      <td>2892</td>\n",
       "      <td>1375262</td>\n",
       "      <td>91</td>\n",
       "      <td>9</td>\n",
       "      <td>0.0</td>\n",
       "      <td>0.0</td>\n",
       "    </tr>\n",
       "  </tbody>\n",
       "</table>\n",
       "<p>10 rows × 27 columns</p>\n",
       "</div>"
      ],
      "text/plain": [
       "          time  lread  lwrite  scall  sread  swrite  fork  exec   rchar  \\\n",
       "7246  00:44:46      0       0    507     20      24   0.2   0.2     789   \n",
       "4324  14:11:31      4       2   3107    270     198   1.6   1.8   49962   \n",
       "4305  11:27:32      5       2   2929    387     204   2.6   2.6  288065   \n",
       "142   01:17:36     15      21    186     11      23   0.2   0.2    2058   \n",
       "4546  16:25:20      2       0   1200    134     128   0.6   0.6  208393   \n",
       "5618  22:54:59      5       0   1776    106      29   4.4  17.8  200983   \n",
       "7280  16:41:55      3       0    943    119     116   0.8   0.6   34217   \n",
       "752   17:06:12      4       2   2821    171     126   0.4   0.6   25208   \n",
       "8126  01:05:41      0       0    161     10      27   0.2   0.2     425   \n",
       "2918  15:07:54      7       1   2544    135     126   1.2   2.4   69693   \n",
       "\n",
       "       wchar  ...     pflt    vflt  runqsz  runocc  freemem  freeswap  usr  \\\n",
       "7246    6978  ...    15.60   16.80     1.0     100     7014   1861808   98   \n",
       "4324   60719  ...    91.40  220.60     5.0     100      156   1020181   88   \n",
       "4305  215294  ...   142.00  249.20     2.0      40      315   1130874   81   \n",
       "142    12778  ...    15.40   17.20     1.0     100     7138   1873512   96   \n",
       "4546   90332  ...    29.94  131.54   126.0  954400       90        10    0   \n",
       "5618   13030  ...   221.80  333.20     1.8     100     5306   1832483   88   \n",
       "7280   32924  ...    58.40  130.00   531.0  943466       93         7    0   \n",
       "752    41575  ...    28.14   69.06     3.4     100     2859   1529525   94   \n",
       "8126   23258  ...    15.60   16.80     1.0     100     6236   1856808   99   \n",
       "2918   23159  ...    87.00  143.00     4.0     100     2892   1375262   91   \n",
       "\n",
       "      sys  wio  idle  \n",
       "7246    2  0.0   0.0  \n",
       "4324   12  0.0   0.0  \n",
       "4305   18  0.0   1.0  \n",
       "142     4  0.0   0.0  \n",
       "4546    0  NaN   NaN  \n",
       "5618   12  0.0   0.0  \n",
       "7280    0  NaN   NaN  \n",
       "752     6  0.0   0.0  \n",
       "8126    1  0.0   0.0  \n",
       "2918    9  0.0   0.0  \n",
       "\n",
       "[10 rows x 27 columns]"
      ]
     },
     "execution_count": 10,
     "metadata": {},
     "output_type": "execute_result"
    }
   ],
   "source": [
    "df.sample(10)"
   ]
  },
  {
   "cell_type": "code",
   "execution_count": 6,
   "metadata": {},
   "outputs": [],
   "source": [
    "import matplotlib.pyplot as plt"
   ]
  },
  {
   "cell_type": "code",
   "execution_count": 7,
   "metadata": {},
   "outputs": [
    {
     "data": {
      "text/plain": [
       "[(0, 1)]"
      ]
     },
     "execution_count": 7,
     "metadata": {},
     "output_type": "execute_result"
    },
    {
     "data": {
      "image/png": "[encoded data removed]",
      "text/plain": [
       "<Figure size 432x1152 with 1 Axes>"
      ]
     },
     "metadata": {
      "needs_background": "light"
     },
     "output_type": "display_data"
    }
   ],
   "source": [
    "# On va faire une exploration des données pour voir quel pourcentage de valeurs vides par colonne\n",
    "_, ax = plt.subplots(figsize=(6, 16))\n",
    "\n",
    "df.isnull().mean().plot.barh(ax=ax)\n",
    "\n",
    "ax.set(xlim=(0, 1))"
   ]
  },
  {
   "cell_type": "code",
   "execution_count": 8,
   "metadata": {},
   "outputs": [
    {
     "data": {
      "text/plain": [
       "588"
      ]
     },
     "execution_count": 8,
     "metadata": {},
     "output_type": "execute_result"
    }
   ],
   "source": [
    "df.isnull().sum().sum()"
   ]
  },
  {
   "cell_type": "code",
   "execution_count": 9,
   "metadata": {},
   "outputs": [
    {
     "data": {
      "text/plain": [
       "8192"
      ]
     },
     "execution_count": 9,
     "metadata": {},
     "output_type": "execute_result"
    }
   ],
   "source": [
    "len(df)"
   ]
  },
  {
   "cell_type": "code",
   "execution_count": 14,
   "metadata": {},
   "outputs": [
    {
     "data": {
      "text/plain": [
       "294"
      ]
     },
     "execution_count": 14,
     "metadata": {},
     "output_type": "execute_result"
    }
   ],
   "source": [
    "df['idle'].isnull().sum()"
   ]
  },
  {
   "cell_type": "code",
   "execution_count": 15,
   "metadata": {},
   "outputs": [
    {
     "data": {
      "text/plain": [
       "294"
      ]
     },
     "execution_count": 15,
     "metadata": {},
     "output_type": "execute_result"
    }
   ],
   "source": [
    "df['wio'].isnull().sum()"
   ]
  },
  {
   "cell_type": "code",
   "execution_count": 16,
   "metadata": {},
   "outputs": [],
   "source": [
    "df.loc[:, ['idle', 'wio']] = df.loc[:, ['idle', 'wio']].fillna(0.0)"
   ]
  },
  {
   "cell_type": "code",
   "execution_count": 17,
   "metadata": {},
   "outputs": [
    {
     "data": {
      "text/plain": [
       "0"
      ]
     },
     "execution_count": 17,
     "metadata": {},
     "output_type": "execute_result"
    }
   ],
   "source": [
    "df.isnull().sum().sum()"
   ]
  },
  {
   "cell_type": "code",
   "execution_count": 18,
   "metadata": {},
   "outputs": [],
   "source": [
    "import seaborn as sns"
   ]
  },
  {
   "cell_type": "code",
   "execution_count": 20,
   "metadata": {},
   "outputs": [
    {
     "data": {
      "text/plain": [
       "<matplotlib.axes._subplots.AxesSubplot at 0x7175751048>"
      ]
     },
     "execution_count": 20,
     "metadata": {},
     "output_type": "execute_result"
    },
    {
     "data": {
      "image/png": "[encoded data removed]",
      "text/plain": [
       "<Figure size 432x288 with 1 Axes>"
      ]
     },
     "metadata": {
      "needs_background": "light"
     },
     "output_type": "display_data"
    }
   ],
   "source": [
    "sns.distplot(df['usr'])"
   ]
  },
  {
   "cell_type": "code",
   "execution_count": 24,
   "metadata": {},
   "outputs": [
    {
     "data": {
      "text/plain": [
       "<matplotlib.axes._subplots.AxesSubplot at 0x713a57f3c8>"
      ]
     },
     "execution_count": 24,
     "metadata": {},
     "output_type": "execute_result"
    },
    {
     "data": {
      "image/png": "[encoded data removed]",
      "text/plain": [
       "<Figure size 432x288 with 1 Axes>"
      ]
     },
     "metadata": {
      "needs_background": "light"
     },
     "output_type": "display_data"
    }
   ],
   "source": [
    "sns.distplot(df['idle'])"
   ]
  },
  {
   "cell_type": "code",
   "execution_count": null,
   "metadata": {},
   "outputs": [],
   "source": []
  }
 ],
 "metadata": {
  "kernelspec": {
   "display_name": "Python 3",
   "language": "python",
   "name": "python3"
  },
  "language_info": {
   "codemirror_mode": {
    "name": "ipython",
    "version": 3
   },
   "file_extension": ".py",
   "mimetype": "text/x-python",
   "name": "python",
   "nbconvert_exporter": "python",
   "pygments_lexer": "ipython3",
   "version": "3.7.1"
  }
 },
 "nbformat": 4,
 "nbformat_minor": 2
}
